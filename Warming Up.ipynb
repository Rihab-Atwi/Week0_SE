{
 "cells": [
  {
   "cell_type": "markdown",
   "id": "29b686e9",
   "metadata": {},
   "source": [
    "## Factorial"
   ]
  },
  {
   "cell_type": "code",
   "execution_count": 1,
   "id": "2a8661e3",
   "metadata": {},
   "outputs": [
    {
     "name": "stdout",
     "output_type": "stream",
     "text": [
      "24\n"
     ]
    }
   ],
   "source": [
    "def factorial(n):\n",
    "    if n == 0:\n",
    "        return 1\n",
    "    else:\n",
    "        return n * factorial(n - 1)\n",
    "\n",
    "print(factorial(4))\n"
   ]
  },
  {
   "cell_type": "markdown",
   "id": "65fe90df",
   "metadata": {},
   "source": [
    "## Fizz Buzz "
   ]
  },
  {
   "cell_type": "code",
   "execution_count": 5,
   "id": "25060368",
   "metadata": {},
   "outputs": [
    {
     "name": "stdout",
     "output_type": "stream",
     "text": [
      "1\n",
      "2\n",
      "Fizz\n",
      "4\n",
      "Buzz\n",
      "Fizz\n",
      "7\n",
      "8\n",
      "Fizz\n",
      "Buzz\n",
      "11\n",
      "Fizz\n",
      "13\n",
      "14\n",
      "FizzBuzz\n",
      "16\n",
      "17\n",
      "Fizz\n",
      "19\n",
      "Buzz\n",
      "Fizz\n",
      "22\n",
      "23\n",
      "Fizz\n",
      "Buzz\n",
      "None\n"
     ]
    }
   ],
   "source": [
    "def fizz_buzz(n):\n",
    "    for number in range(1, n + 1):\n",
    "        if number % 3 == 0 and number % 5 == 0:\n",
    "            print(\"FizzBuzz\")\n",
    "        elif number % 3 == 0:\n",
    "            print(\"Fizz\")\n",
    "        elif number % 5 == 0:\n",
    "            print(\"Buzz\")\n",
    "        else:\n",
    "            print(number)\n",
    "print(fizz_buzz(25))"
   ]
  },
  {
   "cell_type": "markdown",
   "id": "75a9e2c6",
   "metadata": {},
   "source": [
    "## Char Frequency\n"
   ]
  },
  {
   "cell_type": "code",
   "execution_count": 9,
   "id": "0367f58f",
   "metadata": {},
   "outputs": [
    {
     "name": "stdout",
     "output_type": "stream",
     "text": [
      "{'R': 1, 'i': 2, 'h': 1, 'a': 2, 'b': 1, ' ': 1, 't': 1, 'w': 1}\n"
     ]
    }
   ],
   "source": [
    "def char_frequency(string):\n",
    "    frequency = {}\n",
    "    for char in string:\n",
    "        frequency[char] = frequency.get(char, 0) + 1\n",
    "    return frequency\n",
    "print(char_frequency(\"Rihab atwi\"))"
   ]
  }
 ],
 "metadata": {
  "kernelspec": {
   "display_name": "Python 3 (ipykernel)",
   "language": "python",
   "name": "python3"
  },
  "language_info": {
   "codemirror_mode": {
    "name": "ipython",
    "version": 3
   },
   "file_extension": ".py",
   "mimetype": "text/x-python",
   "name": "python",
   "nbconvert_exporter": "python",
   "pygments_lexer": "ipython3",
   "version": "3.11.3"
  }
 },
 "nbformat": 4,
 "nbformat_minor": 5
}
